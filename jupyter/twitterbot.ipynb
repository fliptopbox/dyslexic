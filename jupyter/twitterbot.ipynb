{
 "cells": [
  {
   "cell_type": "markdown",
   "id": "subsequent-translation",
   "metadata": {},
   "source": [
    "# twitterbot\n",
    "\n",
    "Objective is to monitor twitter topics of interest, and interact with participants on the chosen channels. The interactions be percieved as human, not mechanical, and the incentive is to increase followers, withiut following in return (ie. no follow-for-follow)\n",
    "\n",
    "## Interaction\n",
    "\n",
    "Currently there is a mechanical system that ingests a message, if the message contains a clicke then the message is processed as a potential candidate for like, and retweet. There is a linear increase in followers when you like and retweet their content. It seems that people like being noticed and are inclined to follow people that spontaneously interact with their messages. The API to do this does not require any authorship, it is merely a passive like and retweet.\n",
    "\n",
    "The criteria for action are: the tweet content must contain a cliche, otherwise it is ignored. Secondly there are some content checks to ensure the subject matter is not too contaverical, political or inflamatory. The message is weighted by the authors self description and other positive critereon.\n",
    "\n",
    "# Engagement\n",
    "\n",
    "Given a long list of static text phrases, which where harvested from a website for random writing seems to have provoked interaction with new followers, and the relies to the messages suggest the user is under The illusion that the author is human, even though the message is labelled as surreal. It should be mentioned that the random sentneces are not infact generated sentence merely a very long list of unusually composed phrases, the size of the dataset of surreal sentence is large enough so that they are not percieved to be repeating. The timley nature of twitter means that the overhelming amount of messages lets random repetition go by mostly unnoticed.\n",
    "\n",
    "## triggering interaction\n",
    "\n",
    "We want to select and trigger interactions that have a highter likely hood of converting to an increase in followers. In addition to this the trigger should be driven by an AI agent, as opposed to a random condition.\n",
    "\n",
    "\n",
    "\n",
    "\n",
    "Profiling the authour based on their self description.\n",
    "\n",
    "## Twitter self labeling and auto-correlations\n",
    "\n",
    "Hash tags are author assigned labels the data is labeling itself. Albiet flimsy, potentially esoteric or sureal or irrelivant. Nevertheless there is a reason the author wrote the hash tag. So lets investigate What is the function of the hash tag, and can we derive a value system for the author by measuring self labeling, and liked tweets that also are hash labled? Essentially the label is for social signaling."
   ]
  },
  {
   "cell_type": "code",
   "execution_count": 3,
   "id": "wrong-queens",
   "metadata": {},
   "outputs": [
    {
     "data": {
      "text/plain": [
       "{\n",
       "  orig: 'the queen has blue blood and that is a true story',\n",
       "  matches: [ 'blue blood', 'true story' ]\n",
       "}"
      ]
     },
     "execution_count": 3,
     "metadata": {},
     "output_type": "execute_result"
    }
   ],
   "source": [
    "var oxymoron = require(\"../NLP/src/oxymorons\");\n",
    "\n",
    "oxymoron(\"the queen has blue blood and that is a true story\")"
   ]
  }
 ],
 "metadata": {
  "kernelspec": {
   "display_name": "Javascript (Node.js)",
   "language": "javascript",
   "name": "javascript"
  },
  "language_info": {
   "file_extension": ".js",
   "mimetype": "application/javascript",
   "name": "javascript",
   "version": "14.15.4"
  }
 },
 "nbformat": 4,
 "nbformat_minor": 5
}
