{
 "cells": [
  {
   "cell_type": "markdown",
   "id": "competent-stable",
   "metadata": {},
   "source": [
    "# Building feature from text data"
   ]
  },
  {
   "cell_type": "markdown",
   "id": "specific-liberty",
   "metadata": {},
   "source": [
    "## Introduction\n",
    "\n",
    "Text data is different from structured tabular data and, therefore, building features on it requires a completely different approach. In this guide, you will learn how to extract features from raw text for predictive modeling. You will also learn how to perform text preprocessing steps, and create Tf-Idf and Bag-of-words (BOW) feature matrices. We will begin by exploring the data.\n"
   ]
  },
  {
   "cell_type": "markdown",
   "id": "short-breed",
   "metadata": {},
   "source": [
    "## Data\n",
    "\n",
    "In this guide, we will be using tweet data about the company 'Apple'. The objective is to create features that can be used for building a sentiment predictor model.\n",
    "\n",
    "The dataset contains 1181 observations and 3 variables, as described below:\n",
    "\n",
    "- Tweet: Consists of the twitter comments by the users. The twitter data is publicly available.\n",
    "\n",
    "- Avg: Average sentiment of the tweets (-2 means extremely negative while +2 means extremely positive). This classification was done using the Amazon Mechanical Turk.\n",
    "\n",
    "- Sentiment: Consists of the sentiment labels - positive, negative, and neutral."
   ]
  },
  {
   "cell_type": "markdown",
   "id": "enhanced-assist",
   "metadata": {},
   "source": [
    "## Loading the Required Libraries and Modules"
   ]
  },
  {
   "cell_type": "code",
   "execution_count": 8,
   "id": "abandoned-pennsylvania",
   "metadata": {},
   "outputs": [],
   "source": [
    "# Import required libraries\n",
    "import pandas as pd\n",
    "import matplotlib.pyplot as plt\n",
    "import re\n",
    "import numpy as np \n",
    "import matplotlib.pyplot as plt \n",
    "import seaborn as sns\n",
    "import string\n",
    "import nltk\n",
    "import warnings \n",
    "%matplotlib inline\n",
    "warnings.filterwarnings(\"ignore\", category=DeprecationWarning)\n",
    "from nltk.corpus import stopwords\n",
    "stop = stopwords.words('english')"
   ]
  },
  {
   "cell_type": "markdown",
   "id": "creative-clinic",
   "metadata": {},
   "source": [
    "## Loading the Data and Performing Basic Data Checks\n",
    "\n",
    "The first line of code below reads in the data as pandas dataframe, while the second line prints the shape - 1,181 observations of 3 variables.\n",
    "\n",
    "The third line prints the first five observations."
   ]
  },
  {
   "cell_type": "code",
   "execution_count": 12,
   "id": "entire-skiing",
   "metadata": {},
   "outputs": [
    {
     "name": "stdout",
     "output_type": "stream",
     "text": [
      "(5, 3)\n"
     ]
    },
    {
     "data": {
      "text/html": [
       "<div>\n",
       "<style scoped>\n",
       "    .dataframe tbody tr th:only-of-type {\n",
       "        vertical-align: middle;\n",
       "    }\n",
       "\n",
       "    .dataframe tbody tr th {\n",
       "        vertical-align: top;\n",
       "    }\n",
       "\n",
       "    .dataframe thead th {\n",
       "        text-align: right;\n",
       "    }\n",
       "</style>\n",
       "<table border=\"1\" class=\"dataframe\">\n",
       "  <thead>\n",
       "    <tr style=\"text-align: right;\">\n",
       "      <th></th>\n",
       "      <th>Tweet</th>\n",
       "      <th>Avg</th>\n",
       "      <th>Sentiment</th>\n",
       "    </tr>\n",
       "  </thead>\n",
       "  <tbody>\n",
       "    <tr>\n",
       "      <th>0</th>\n",
       "      <td>iphone 5c is ugly as heck what the freak @appl</td>\n",
       "      <td>-2.0</td>\n",
       "      <td>Negative</td>\n",
       "    </tr>\n",
       "    <tr>\n",
       "      <th>1</th>\n",
       "      <td>freak YOU @APPLE</td>\n",
       "      <td>-2.0</td>\n",
       "      <td>Negative</td>\n",
       "    </tr>\n",
       "    <tr>\n",
       "      <th>2</th>\n",
       "      <td>freak you @apple</td>\n",
       "      <td>-2.0</td>\n",
       "      <td>Negative</td>\n",
       "    </tr>\n",
       "    <tr>\n",
       "      <th>3</th>\n",
       "      <td>@APPLE YOU RUINED MY LIFE</td>\n",
       "      <td>-2.0</td>\n",
       "      <td>Negative</td>\n",
       "    </tr>\n",
       "    <tr>\n",
       "      <th>4</th>\n",
       "      <td>@apple I hate apple!!!!!</td>\n",
       "      <td>-2.0</td>\n",
       "      <td>Negative</td>\n",
       "    </tr>\n",
       "  </tbody>\n",
       "</table>\n",
       "</div>"
      ],
      "text/plain": [
       "                                            Tweet  Avg Sentiment\n",
       "0  iphone 5c is ugly as heck what the freak @appl -2.0  Negative\n",
       "1                                freak YOU @APPLE -2.0  Negative\n",
       "2                                freak you @apple -2.0  Negative\n",
       "3                       @APPLE YOU RUINED MY LIFE -2.0  Negative\n",
       "4                        @apple I hate apple!!!!! -2.0  Negative"
      ]
     },
     "execution_count": 12,
     "metadata": {},
     "output_type": "execute_result"
    }
   ],
   "source": [
    "dat = pd.read_csv('datatweets.csv')\n",
    "print(dat.shape)\n",
    "dat.head(5)"
   ]
  },
  {
   "cell_type": "markdown",
   "id": "leading-australian",
   "metadata": {},
   "source": [
    "We will start by performing basic analysis of the data. The line of code below prints the number of tweets, as per the 'Sentiment' label. The output shows that the highest number of tweets are for the negative sentiment, while the lowest are for the positive sentiment."
   ]
  },
  {
   "cell_type": "code",
   "execution_count": 13,
   "id": "together-secondary",
   "metadata": {},
   "outputs": [
    {
     "data": {
      "text/plain": [
       "Sentiment\n",
       "Negative    5\n",
       "Name: Tweet, dtype: int64"
      ]
     },
     "execution_count": 13,
     "metadata": {},
     "output_type": "execute_result"
    }
   ],
   "source": [
    "# Get the number of dates / entries in each month\n",
    "dat.groupby('Sentiment')['Tweet'].count()"
   ]
  },
  {
   "cell_type": "code",
   "execution_count": null,
   "id": "corresponding-absolute",
   "metadata": {},
   "outputs": [],
   "source": []
  }
 ],
 "metadata": {
  "kernelspec": {
   "display_name": "Python 3",
   "language": "python",
   "name": "python3"
  },
  "language_info": {
   "codemirror_mode": {
    "name": "ipython",
    "version": 3
   },
   "file_extension": ".py",
   "mimetype": "text/x-python",
   "name": "python",
   "nbconvert_exporter": "python",
   "pygments_lexer": "ipython3",
   "version": "3.9.1"
  }
 },
 "nbformat": 4,
 "nbformat_minor": 5
}
