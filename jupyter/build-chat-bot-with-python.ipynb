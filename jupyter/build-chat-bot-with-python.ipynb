{
 "cells": [
  {
   "cell_type": "markdown",
   "id": "chief-playlist",
   "metadata": {},
   "source": [
    "https://app.pluralsight.com/guides/build-a-chatbot-with-python\n",
    "    \n",
    "# build-a-chatbot-with-python\n",
    " \n",
    "## Introduction\n",
    "\n",
    "Conversational _NLP_, or natural language processing, is playing a big part in text analytics through chatbots. A chatbot is an artificial intelligence based tool built to converse with humans in their native language. These chatbots have become popular across industries, and are considered one of the most useful applications of natural language processing.\n",
    "\n",
    "In this guide, you will learn to build your first chatbot using Python.\n",
    "\n",
    "## Baseline Libraries\n",
    "\n",
    "You'll be using the `nltk` library in this guide. NLTK stands for _Natural Language Toolkit_ and is a leading python library to work with text data. The first line of code below imports the library, while the second line uses the `nltk.chat` module to import the required utilities.\n"
   ]
  },
  {
   "cell_type": "code",
   "execution_count": 2,
   "id": "informational-pakistan",
   "metadata": {},
   "outputs": [],
   "source": [
    "import nltk\n",
    "from nltk.chat.util import Chat, reflections"
   ]
  },
  {
   "cell_type": "markdown",
   "id": "necessary-clearance",
   "metadata": {},
   "source": [
    "The code below shows that utility `Chat` is a class that provides logic for building the chatbot."
   ]
  },
  {
   "cell_type": "code",
   "execution_count": 4,
   "id": "banned-knitting",
   "metadata": {},
   "outputs": [
    {
     "name": "stdout",
     "output_type": "stream",
     "text": [
      "<class 'nltk.chat.util.Chat'>\n"
     ]
    }
   ],
   "source": [
    "print(Chat)"
   ]
  },
  {
   "cell_type": "markdown",
   "id": "invisible-theta",
   "metadata": {},
   "source": [
    "The other import you did above was `Reflections`, which is a dictionary that contains a set of input text and its corresponding output values. You can examine the dictionary with the code below. This is an optional dictionary and you can create your own dictionary in the same format as below.\n"
   ]
  },
  {
   "cell_type": "code",
   "execution_count": 6,
   "id": "worse-spencer",
   "metadata": {},
   "outputs": [
    {
     "data": {
      "text/plain": [
       "{'i am': 'you are',\n",
       " 'i was': 'you were',\n",
       " 'i': 'you',\n",
       " \"i'm\": 'you are',\n",
       " \"i'd\": 'you would',\n",
       " \"i've\": 'you have',\n",
       " \"i'll\": 'you will',\n",
       " 'my': 'your',\n",
       " 'you are': 'I am',\n",
       " 'you were': 'I was',\n",
       " \"you've\": 'I have',\n",
       " \"you'll\": 'I will',\n",
       " 'your': 'my',\n",
       " 'yours': 'mine',\n",
       " 'you': 'me',\n",
       " 'me': 'you'}"
      ]
     },
     "execution_count": 6,
     "metadata": {},
     "output_type": "execute_result"
    }
   ],
   "source": [
    "reflections"
   ]
  },
  {
   "cell_type": "markdown",
   "id": "timely-revolution",
   "metadata": {},
   "source": [
    "---\n",
    "\n",
    "## Building the Chatbot\n",
    "\n",
    "The first step is to create rules that will be used to train the chatbot. The lines of code below create a simple set of rules. The first element of the list is the user input, whereas the second element is the response from the bot. Several such lists are created in the `set_pairs` object.\n"
   ]
  },
  {
   "cell_type": "code",
   "execution_count": 9,
   "id": "closing-adoption",
   "metadata": {},
   "outputs": [],
   "source": [
    "set_pairs = [\n",
    "    [\n",
    "        r\"my name is (.*)\",\n",
    "        [\"Hello %1, How are you doing today ?\",]\n",
    "    ],\n",
    "    [\n",
    "        r\"hi|hey|hello\",\n",
    "        [\"Hello\", \"Hey there\",]\n",
    "    ], \n",
    "    [\n",
    "        r\"what is your name?\",\n",
    "        [\"You can call me a chatbot ?\",]\n",
    "    ],\n",
    "    [\n",
    "        r\"how are you ?\",\n",
    "        [\"I am fine, thank you! How can i help you?\",]\n",
    "    ],\n",
    "    [\n",
    "        r\"I am fine, thank you\",\n",
    "        [\"great to hear that, how can i help you?\",]\n",
    "    ],\n",
    "    [\n",
    "        r\"how can i help you? \",\n",
    "        [\"i am looking for online guides and courses to learn data science, can you suggest?\", \"i am looking for data science training platforms\",]\n",
    "    ],\n",
    "    [\n",
    "        r\"i'm (.*) doing good\",\n",
    "        [\"That's great to hear\",\"How can i help you?:)\",]\n",
    "    ],\n",
    "    [\n",
    "        r\"i am looking for online guides and courses to learn data science, can you suggest?\",\n",
    "        [\"Pluralsight is a great option to learn data science. You can check their website\",]\n",
    "    ],\n",
    "    [\n",
    "        r\"thanks for the suggestion. do they have great authors and instructors?\",\n",
    "        [\"Yes, they have the world class best authors, that is their strength;)\",]\n",
    "    ],\n",
    "    [\n",
    "        r\"(.*) thank you so much, that was helpful\",\n",
    "        [\"Iam happy to help\", \"No problem, you're welcome\",]\n",
    "    ],\n",
    "    [\n",
    "        r\"quit\",\n",
    "    [\"Bye, take care. See you soon :) \",\"It was nice talking to you. See you soon :)\"]\n",
    "]]\n"
   ]
  },
  {
   "cell_type": "markdown",
   "id": "medium-phrase",
   "metadata": {},
   "source": [
    "After creating the pairs of rules above, we define the chatbot using the code below. The code is simple and prints a message whenever the function is invoked."
   ]
  },
  {
   "cell_type": "code",
   "execution_count": 12,
   "id": "laden-chain",
   "metadata": {},
   "outputs": [
    {
     "name": "stdout",
     "output_type": "stream",
     "text": [
      "Hi, I'm the chatbot you built\n"
     ]
    }
   ],
   "source": [
    "def chatbot():\n",
    "        print(\"Hi, I'm the chatbot you built\") \n",
    "\n",
    "chatbot()"
   ]
  },
  {
   "cell_type": "markdown",
   "id": "buried-giant",
   "metadata": {},
   "source": [
    "The next step is to instantiate the `Chat()` function containing the pairs and reflections.\n"
   ]
  },
  {
   "cell_type": "code",
   "execution_count": 16,
   "id": "cleared-advisory",
   "metadata": {},
   "outputs": [
    {
     "name": "stdout",
     "output_type": "stream",
     "text": [
      "<nltk.chat.util.Chat object at 0x7fb820de0670>\n"
     ]
    }
   ],
   "source": [
    "chat = Chat(set_pairs, reflections)\n",
    "print(chat)"
   ]
  },
  {
   "cell_type": "markdown",
   "id": "contained-british",
   "metadata": {},
   "source": [
    "You have created a simple rule-based chatbot, and the last step is to initiate the conversation. This is done using the code below where the `converse()` function triggers the conversation."
   ]
  },
  {
   "cell_type": "code",
   "execution_count": null,
   "id": "assigned-classification",
   "metadata": {},
   "outputs": [],
   "source": [
    "chat.converse()\n",
    "if __name__ == \"__main__\":\n",
    "    chatbot()\n"
   ]
  },
  {
   "cell_type": "markdown",
   "id": "sized-stroke",
   "metadata": {},
   "source": [
    "The code above will generate the following chatbox in your notebook, as shown in the image below.\n"
   ]
  },
  {
   "cell_type": "markdown",
   "id": "accredited-charger",
   "metadata": {},
   "source": [
    "![Imgur](https://imgur.com/vlxn9Vr.png)\n",
    "\n",
    "You're ready to interact with the chatbot. Start by typing a simple greeting, \"hi\", in the box, and you'll get the response \"Hello\" from the bot, as shown in the image below.\n",
    "\n",
    "Output:\n",
    "\n",
    "![Imgur](https://imgur.com/UuvwIje.png)\n",
    "\n",
    "You can continue conversing with the chatbot and quit the conversation once you are done, as shown in the image below.\n",
    "\n",
    "Output:\n",
    "\n",
    "![Imgur](https://imgur.com/APhTYIC.png)\n",
    "\n"
   ]
  },
  {
   "cell_type": "markdown",
   "id": "progressive-effect",
   "metadata": {},
   "source": [
    "## Conclusion\n",
    "\n",
    "In this guide, you learned about creating a simple chatbot in Python. You used simple rules and the powerful `nltk` library to build the chatbot. More complex rules can be added to further strengthen the chatbot.\n",
    "\n",
    "To learn more about text analytics and natural language processing, please refer to the following guides.\n",
    "\n",
    "-   [Natural Language Processing - Machine Learning with Text Data](https://app.pluralsight.com/guides/nlp-machine-learning-text-data/)\n",
    "    \n",
    "\n",
    "-   [Natural Language Processing – Text Parsing](https://app.pluralsight.com/guides/text-parsing/)\n",
    "    \n",
    "\n",
    "-   [Natural Language Processing - Topic Identification](https://app.pluralsight.com/guides/topic-identification-nlp/)\n",
    "    \n",
    "\n",
    "-   [​Visualizing Text Data Using a Word Cloud](https://app.pluralsight.com/guides/natural-language-processing-visualizing-text-data-using-word-cloud/)\n",
    "    \n",
    "\n",
    "-   [​Named Entity Recognition (NER)](https://app.pluralsight.com/guides/natural-language-processing-named-entity-recognition/)\n",
    "    \n",
    "\n",
    "-   [Building Features from Text Data](https://app.pluralsight.com/guides/building-features-from-text-data/)\n",
    "    \n",
    "\n",
    "-   [Natural Language Processing – ​Extracting Sentiment from the Text Data](https://app.pluralsight.com/guides/natural-language-processing-extracting-sentiment-from-text-data/)"
   ]
  }
 ],
 "metadata": {
  "kernelspec": {
   "display_name": "Python 3",
   "language": "python",
   "name": "python3"
  },
  "language_info": {
   "codemirror_mode": {
    "name": "ipython",
    "version": 3
   },
   "file_extension": ".py",
   "mimetype": "text/x-python",
   "name": "python",
   "nbconvert_exporter": "python",
   "pygments_lexer": "ipython3",
   "version": "3.9.1"
  }
 },
 "nbformat": 4,
 "nbformat_minor": 5
}
