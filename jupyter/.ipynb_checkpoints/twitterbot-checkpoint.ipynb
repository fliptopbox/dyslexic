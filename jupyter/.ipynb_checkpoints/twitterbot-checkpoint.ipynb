{
 "cells": [
  {
   "cell_type": "markdown",
   "id": "dutch-animation",
   "metadata": {},
   "source": [
    "# twitterbot\n",
    "\n",
    "Objective is to monitor twitter topics of interest, and interact with participants on the chosen channels. The interactions should not be percieved as mechanical, and the incentive is to increase social capital, ie. followers\n",
    "\n",
    "So far simply liking and retweeting a random message has stimulated followers, and increased interaction.\n",
    "\n",
    "The trigger to interact with the message stream is determined by the content of the authors message.\n",
    "\n",
    "## triggering interaction\n",
    "\n",
    "We want to select and trigger interactions that have a highter likely hood of converting to an increase in followers. In addition to this the trigger should be driven by an AI agent, as opposed to a random condition.\n",
    "\n",
    "\n",
    "\n",
    "\n",
    "Profiling the authour based on their self description.\n",
    "\n",
    "## Twitter self labeling and auto-correlations\n",
    "\n",
    "Hash tags are author assigned labels the data is labeling itself. Albiet flimsy, potentially esoteric or sureal or irrelivant. Nevertheless there is a reason the author wrote the hash tag. So lets investigate What is the function of the hash tag, and can we derive a value system for the author by measuring self labeling, and liked tweets that also are hash labled? Essentially the label is for social signaling."
   ]
  },
  {
   "cell_type": "code",
   "execution_count": 4,
   "id": "rapid-today",
   "metadata": {},
   "outputs": [
    {
     "ename": "SyntaxError",
     "evalue": "Identifier 'fs' has already been declared",
     "execution_count": 4,
     "output_type": "error",
     "traceback": [
      "evalmachine.<anonymous>:1",
      "var fs = require(\"filesystem\");",
      "^",
      "",
      "SyntaxError: Identifier 'fs' has already been declared",
      "    at evalmachine.<anonymous>:1:1",
      "    at Script.runInThisContext (vm.js:133:18)",
      "    at Object.runInThisContext (vm.js:310:38)",
      "    at run ([eval]:1054:15)",
      "    at onRunRequest ([eval]:888:18)",
      "    at onMessage ([eval]:848:13)",
      "    at process.emit (events.js:315:20)",
      "    at emit (internal/child_process.js:903:12)",
      "    at processTicksAndRejections (internal/process/task_queues.js:81:21)"
     ]
    }
   ],
   "source": [
    "var fs = require(\"filesystem\");\n",
    "var path = require(\"path\");\n",
    "console.log(process.cwd())"
   ]
  }
 ],
 "metadata": {
  "kernelspec": {
   "display_name": "Javascript (Node.js)",
   "language": "javascript",
   "name": "javascript"
  },
  "language_info": {
   "file_extension": ".js",
   "mimetype": "application/javascript",
   "name": "javascript",
   "version": "14.15.4"
  }
 },
 "nbformat": 4,
 "nbformat_minor": 5
}
