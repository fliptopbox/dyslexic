{
 "cells": [
  {
   "cell_type": "markdown",
   "id": "intermediate-exercise",
   "metadata": {},
   "source": [
    "https://app.pluralsight.com/guides/topic-identification-nlp/\n",
    "\n",
    "# Natural Language Processing - Topic Identification\n",
    "\n",
    "## Introduction\n",
    "\n",
    "Natural Language Processing (or NLP) is the science of dealing with human language or text data. One of the NLP applications is Topic Identification, which is a technique used to discover topics across text documents.\n",
    "\n",
    "In this guide, we will learn about the fundamentals of topic identification and modeling. Using the bag-of-words approach and simple NLP models, we will learn how to identify topics from texts.\n",
    "\n",
    "We will start by importing the libraries we will be using in this guide."
   ]
  },
  {
   "cell_type": "markdown",
   "id": "swedish-circulation",
   "metadata": {},
   "source": [
    "## Required Libraries and Modules\n",
    "\n",
    "**Gensim** is a Python library for topic modelling, document indexing and similarity retrieval with large corpora. Target audience is the natural language processing (NLP) and information retrieval (IR) community.\n",
    "\n",
    "**NLTK** The Natural Language Toolkit (NLTK) is a Python package for natural language processing. NLTK requires Python 3.5, 3.6, 3.7, or 3.8.\n",
    "\n",
    "Note you need to install the eternal libraries too:\n",
    "- nltk `pip install nltk`\n",
    "- genim `pip install gensim`\n",
    "\n",
    "Or install all dependancies for all notebooks, run this command from within the jupyter folder\n",
    "\n",
    "```pip install -r requirements.txt```"
   ]
  },
  {
   "cell_type": "code",
   "execution_count": 56,
   "id": "quick-header",
   "metadata": {},
   "outputs": [],
   "source": [
    "import nltk\n",
    "import gensim\n",
    "import string\n",
    "\n",
    "\n",
    "from nltk.tokenize import word_tokenize\n",
    "from collections import Counter\n",
    "from nltk.stem import WordNetLemmatizer \n",
    "from nltk.corpus import stopwords\n",
    "\n",
    "# For Gensim\n",
    "from gensim import corpora\n",
    "from gensim.corpora.dictionary import Dictionary\n",
    "from nltk.tokenize import word_tokenize\n",
    "\n"
   ]
  },
  {
   "cell_type": "markdown",
   "id": "thousand-lover",
   "metadata": {},
   "source": [
    "\n",
    "Uncomment the following lines to download the data files **warning** only download if using this module for the first time.\n",
    "\n",
    "The script will error if the downloads exist.\n"
   ]
  },
  {
   "cell_type": "code",
   "execution_count": null,
   "id": "celtic-personality",
   "metadata": {},
   "outputs": [],
   "source": [
    "# nltk.download('wordnet')\n",
    "# nltk.download('stopwords')"
   ]
  },
  {
   "cell_type": "markdown",
   "id": "persistent-title",
   "metadata": {},
   "source": [
    "# Bag-of-words Approach\n",
    "\n",
    "Bag-of-words is a simplistic method for identifying topics in a document. It works on the assumption that the higher the frequency of the term, the higher it's importance. We will see how to implement this using the text example given below:"
   ]
  },
  {
   "cell_type": "code",
   "execution_count": 57,
   "id": "adjacent-patent",
   "metadata": {},
   "outputs": [
    {
     "name": "stdout",
     "output_type": "stream",
     "text": [
      "Avengers: Infinity War was a 2018 American superhero film based on the Marvel Comics superhero team the Avengers. It is the 19th film in the Marvel Cinematic Universe (MCU). The running time of the movie was 149 minutes and the box office collection was around 2 billion dollars. (Source: Wikipedia)\n"
     ]
    }
   ],
   "source": [
    "text1 = \"Avengers: Infinity War was a 2018 American superhero film based on the Marvel Comics superhero team the Avengers. It is the 19th film in the Marvel Cinematic Universe (MCU). The running time of the movie was 149 minutes and the box office collection was around 2 billion dollars. (Source: Wikipedia)\"\n",
    "print(text1)"
   ]
  },
  {
   "cell_type": "markdown",
   "id": "graphic-disco",
   "metadata": {},
   "source": [
    "The text is on the Avengers movie, 'Infinity War'. To begin with, we will create tokens using tokenization. The first line of code below splits the text into tokens. The second line converts the tokens to lowercase and the third line prints the output."
   ]
  },
  {
   "cell_type": "code",
   "execution_count": 58,
   "id": "selective-advance",
   "metadata": {},
   "outputs": [
    {
     "name": "stdout",
     "output_type": "stream",
     "text": [
      "['avengers', ':', 'infinity', 'war', 'was', 'a', '2018', 'american', 'superhero', 'film', 'based', 'on', 'the', 'marvel', 'comics', 'superhero', 'team', 'the', 'avengers', '.', 'it', 'is', 'the', '19th', 'film', 'in', 'the', 'marvel', 'cinematic', 'universe', '(', 'mcu', ')', '.', 'the', 'running', 'time', 'of', 'the', 'movie', 'was', '149', 'minutes', 'and', 'the', 'box', 'office', 'collection', 'was', 'around', '2', 'billion', 'dollars', '.', '(', 'source', ':', 'wikipedia', ')']\n"
     ]
    }
   ],
   "source": [
    "tokens = word_tokenize(text1)\n",
    "lowercase_tokens = [t.lower() for t in tokens]\n",
    "print(lowercase_tokens)"
   ]
  },
  {
   "cell_type": "markdown",
   "id": "continent-deputy",
   "metadata": {},
   "source": [
    "The list of tokens generated above can be passed as an initialization argument for the 'Counter' class, which has already been imported at the beginning from the library module 'collections'.\n",
    "\n",
    "The first line of code below creates a counter object, 'bagofwords_1', that allows us to see each token and the frequency. The second line prints the most common 10 tokens along with the frequency."
   ]
  },
  {
   "cell_type": "code",
   "execution_count": 45,
   "id": "approved-finding",
   "metadata": {},
   "outputs": [
    {
     "name": "stdout",
     "output_type": "stream",
     "text": [
      "[('the', 7), ('was', 3), ('.', 3), ('avengers', 2), (':', 2), ('superhero', 2), ('film', 2), ('marvel', 2), ('(', 2), (')', 2)]\n"
     ]
    }
   ],
   "source": [
    "bagofwords_1 = Counter(lowercase_tokens)\n",
    "print(bagofwords_1.most_common(10))"
   ]
  },
  {
   "cell_type": "markdown",
   "id": "hidden-filling",
   "metadata": {},
   "source": [
    "# Text Preprocessing\n",
    "\n",
    "The output generated above is interesting but not useful from topic identification purpose. This is because tokens like 'the' and 'was' are common words and do not help much in identifying the topics. To overcome this, we will do text preprocessing.\n",
    "\n",
    "The first line of code below creates a list called 'alphabets' that loops over 'lowercase_tokens' and retains only alphabetical characters. The second and third lines remove the English stopwords, and the fourth line prints the new list called 'stopwords_removed'."
   ]
  },
  {
   "cell_type": "code",
   "execution_count": 46,
   "id": "crucial-miller",
   "metadata": {},
   "outputs": [
    {
     "name": "stdout",
     "output_type": "stream",
     "text": [
      "['avengers', 'infinity', 'war', 'american', 'superhero', 'film', 'based', 'marvel', 'comics', 'superhero', 'team', 'avengers', 'film', 'marvel', 'cinematic', 'universe', 'mcu', 'running', 'time', 'movie', 'minutes', 'box', 'office', 'collection', 'around', 'billion', 'dollars', 'source', 'wikipedia']\n"
     ]
    }
   ],
   "source": [
    "alphabets = [t for t in lowercase_tokens if t.isalpha()]\n",
    "\n",
    "words = stopwords.words(\"english\")\n",
    "stopwords_removed = [t for t in alphabets if t not in words]\n",
    "\n",
    "print(stopwords_removed)"
   ]
  },
  {
   "cell_type": "markdown",
   "id": "union-idaho",
   "metadata": {},
   "source": [
    "We have completed the initial text preprocessing steps, but more can still be done. One such important technique is Word Lemmatization, which is the process of shortening words to their roots or stems. This is done in the code below.\n",
    "\n",
    "The first line of code instantiates the WordNetLemmatizer. The second line uses the '.lemmatize()' method to create a new list called lem_tokens, while the third line calls in the Counter class and creates a new Counter called bag_words. Finally, the fourth line prints the six most common tokens."
   ]
  },
  {
   "cell_type": "code",
   "execution_count": 47,
   "id": "warming-rugby",
   "metadata": {},
   "outputs": [
    {
     "name": "stdout",
     "output_type": "stream",
     "text": [
      "[('avenger', 2), ('superhero', 2), ('film', 2), ('marvel', 2), ('infinity', 1), ('war', 1)]\n"
     ]
    }
   ],
   "source": [
    "lemmatizer = WordNetLemmatizer()\n",
    "\n",
    "lem_tokens = [lemmatizer.lemmatize(t) for t in stopwords_removed]\n",
    "\n",
    "bag_words = Counter(lem_tokens)\n",
    "print(bag_words.most_common(6))"
   ]
  },
  {
   "cell_type": "markdown",
   "id": "norwegian-invitation",
   "metadata": {},
   "source": [
    "The above output is far more useful. We don't have stopwords like 'the' and 'was', and by looking at the new set of common words, we can easily identify that the topic of our text is Avengers.\n",
    "\n",
    "We have seen how bag-of-words can be used after preprocessing to identify topics in a corpus. We will now learn about another powerful NLP library called 'genism' for topic modeling."
   ]
  },
  {
   "cell_type": "markdown",
   "id": "fatty-gazette",
   "metadata": {},
   "source": [
    "# Using Gensim and Latent Dirichlet Allocation (LDA)"
   ]
  },
  {
   "cell_type": "markdown",
   "id": "reasonable-grain",
   "metadata": {},
   "source": [
    "Gensim is an open source NLP library which can be used for creating and querying a corpus. It works by building word embeddings or vectors which are then used to perform topic modeling.\n",
    "\n",
    "Word vectors are multi-dimensional mathematical representations of words created using deep learning methods. They give us insight into relationships between terms in a corpus. For example, the distance between the two words 'India' and 'New Delhi' might be similar to the distance between 'China' and 'Beijing', as these represent the 'Country-Capital' vectors.\n",
    "\n",
    "To get started, we have created nine sample documents taken from the Pluralsight website. These are represented as sample1 to sample9 in the lines of code below. Finally, we have created a collection of these documents in the last line of code."
   ]
  },
  {
   "cell_type": "code",
   "execution_count": 48,
   "id": "frank-local",
   "metadata": {},
   "outputs": [],
   "source": [
    "sample1 = \"Our board of directors boasts 11 seasoned technology and business leaders from Adobe, GSK, HGGC and more.\"\n",
    "sample2 = \"Our executives lead by example and guide us to accomplish great things every day.\"\n",
    "sample3 = \"Working at Pluralisght means being surrounded by smart, passionate people who inspire us to do our best work.\"\n",
    "sample4 = \"A leadership team with vision.\"\n",
    "sample5 = \"Courses on cloud, microservices, machine learning, security, Agile and more.\"\n",
    "sample6 = \"Interactive courses and projects.\"\n",
    "sample7 = \"Personalized course recommendations from Iris.\"\n",
    "sample8 = \"We’re excited to announce that Pluralsight has ranked #9 on the Great Place to Work 2018, Best Medium Workplaces list!\"\n",
    "sample9 = \"Few of the job opportunities include Implementation Consultant - Analytics, Manager - assessment production, Chief Information Officer, Director of Communications.\"\n",
    "\n",
    "# compile documents\n",
    "compileddoc = [sample1, sample2, sample3, sample4, sample5, sample6, sample7, sample8, sample9] \n"
   ]
  },
  {
   "cell_type": "markdown",
   "id": "superior-webcam",
   "metadata": {},
   "source": [
    "Let us examine the first document which can be done by the code below.`"
   ]
  },
  {
   "cell_type": "code",
   "execution_count": 41,
   "id": "amber-recall",
   "metadata": {},
   "outputs": [
    {
     "name": "stdout",
     "output_type": "stream",
     "text": [
      "Our board of directors boasts 11 seasoned technology and business leaders from Adobe, GSK, HGGC and more.\n"
     ]
    }
   ],
   "source": [
    "print(compileddoc[0])"
   ]
  },
  {
   "cell_type": "markdown",
   "id": "judicial-construction",
   "metadata": {},
   "source": [
    "In subsequent sections of this guide, we will try to perform topic modeling on the corpus 'compileddoc'. As always, the first step is text preprocessing.\n",
    "\n",
    "The first three lines of code below set the basic framework for cleaning the document. In the fourth to eight lines, we define a function for cleaning the document. Finally, in the last line of code, we use the function to create the cleaned document called 'final_doc'."
   ]
  },
  {
   "cell_type": "code",
   "execution_count": 49,
   "id": "sophisticated-mixture",
   "metadata": {},
   "outputs": [],
   "source": [
    "stopwords = set(stopwords.words(\"english\"))\n",
    "exclude = set(string.punctuation)\n",
    "lemma = WordNetLemmatizer()\n",
    "\n",
    "\n",
    "def clean(document):\n",
    "    stopwordremoval = \" \".join([i for i in document.lower().split() if i not in stopwords])\n",
    "    punctuationremoval = ''.join(ch for ch in stopwordremoval if ch not in exclude)\n",
    "    normalized = \" \".join(lemma.lemmatize(word) for word in punctuationremoval.split())\n",
    "    return normalized\n",
    "\n",
    "final_doc = [clean(document).split() for document in compileddoc]"
   ]
  },
  {
   "cell_type": "markdown",
   "id": "flexible-square",
   "metadata": {},
   "source": [
    "Let us now look at the first document - pre and post text cleaning - with the following code.\n",
    "\n",
    "## Before text-cleaning:"
   ]
  },
  {
   "cell_type": "code",
   "execution_count": 50,
   "id": "fallen-fight",
   "metadata": {},
   "outputs": [
    {
     "name": "stdout",
     "output_type": "stream",
     "text": [
      "Before text-cleaning: Our board of directors boasts 11 seasoned technology and business leaders from Adobe, GSK, HGGC and more.\n"
     ]
    }
   ],
   "source": [
    "print(\"Before text-cleaning:\", compileddoc[0]) "
   ]
  },
  {
   "cell_type": "markdown",
   "id": "smooth-river",
   "metadata": {},
   "source": [
    "## After text-cleaning:"
   ]
  },
  {
   "cell_type": "code",
   "execution_count": 38,
   "id": "canadian-teens",
   "metadata": {},
   "outputs": [
    {
     "name": "stdout",
     "output_type": "stream",
     "text": [
      "After text-cleaning: ['board', 'director', 'boast', '11', 'seasoned', 'technology', 'business', 'leader', 'adobe', 'gsk', 'hggc', 'more']\n"
     ]
    }
   ],
   "source": [
    "print(\"After text-cleaning:\",final_doc[0])"
   ]
  },
  {
   "cell_type": "markdown",
   "id": "amateur-career",
   "metadata": {},
   "source": [
    "We are now ready to carry out topic modeling on the 'final_doc' corpus, using a powerful statistical method called Latent Dirichlet Allocation (LDA).\n",
    "\n",
    "LDA uses a generative approach to find texts that are similar. It is not a classification technique and does not require labels to infer the patterns.\n",
    "\n",
    "Instead, the algorithm is more of an unsupervised method that uses a probabilistic model to identify groups of topics."
   ]
  },
  {
   "cell_type": "markdown",
   "id": "sonic-chinese",
   "metadata": {},
   "source": [
    "## Preparing Document-Term Matrix for LDA\n",
    "\n",
    "The first step is to convert the corpus into a matrix representation, as done in the following code.\n",
    "\n",
    "The first line of code creates the term dictionary of the corpus, where every unique term is assigned an index. The second line converts the corpus into a Document-Term Matrix using dictionary prepared above. Finally, with the document-term matrix ready, we create the object for the LDA model in the third line of code."
   ]
  },
  {
   "cell_type": "code",
   "execution_count": 31,
   "id": "integral-badge",
   "metadata": {},
   "outputs": [],
   "source": [
    "dictionary = corpora.Dictionary(final_doc)\n",
    "\n",
    "DT_matrix = [dictionary.doc2bow(doc) for doc in final_doc]\n",
    "\n",
    "Lda_object = gensim.models.ldamodel.LdaModel"
   ]
  },
  {
   "cell_type": "markdown",
   "id": "departmental-brain",
   "metadata": {},
   "source": [
    "After creating the LDA model object, we will train it on the document-term matrix. The first line of code below performs this task by passing the LDA object on the 'DT_matrix'. We also need to specify the number of topics and the dictionary. Since we have a small corpus of nine documents, we can limit the number of topics to two or three.\n",
    "\n",
    "In the lines of code below, we have set the number of topics as 2.\n",
    "\n",
    "The second line prints the result."
   ]
  },
  {
   "cell_type": "code",
   "execution_count": 32,
   "id": "elder-thickness",
   "metadata": {},
   "outputs": [
    {
     "name": "stdout",
     "output_type": "stream",
     "text": [
      "[(0, '0.035*\"course\" + 0.028*\"u\" + 0.028*\"work\" + 0.026*\"best\" + 0.021*\"mean\"'), (1, '0.028*\"director\" + 0.026*\"more\" + 0.023*\"great\" + 0.020*\"course\" + 0.017*\"boast\"')]\n"
     ]
    }
   ],
   "source": [
    "lda_model_1 = Lda_object(DT_matrix, num_topics=2, id2word = dictionary)\n",
    "\n",
    "print(lda_model_1.print_topics(num_topics=2, num_words=5))"
   ]
  },
  {
   "cell_type": "markdown",
   "id": "interesting-death",
   "metadata": {},
   "source": [
    "In the output above, each line represents a topic with individual topic terms and term-weights. Topic1 seems to be more about the 'courses' offered by Pluralisght, while the second topic seems to indicate about 'work'.\n",
    "\n",
    "We can also change the number of topics and see how it changes the output. In the following code, we have selected three topics."
   ]
  },
  {
   "cell_type": "code",
   "execution_count": 33,
   "id": "useful-equality",
   "metadata": {},
   "outputs": [
    {
     "name": "stdout",
     "output_type": "stream",
     "text": [
      "[(0, '0.033*\"course\" + 0.032*\"vision\" + 0.032*\"project\" + 0.032*\"team\" + 0.032*\"interactive\"'), (1, '0.035*\"director\" + 0.035*\"more\" + 0.021*\"course\" + 0.020*\"manager\" + 0.020*\"job\"'), (2, '0.043*\"u\" + 0.030*\"great\" + 0.030*\"course\" + 0.030*\"thing\" + 0.030*\"day\"')]\n"
     ]
    }
   ],
   "source": [
    "lda_model_2 = Lda_object(DT_matrix, num_topics=3, id2word = dictionary)\n",
    "\n",
    "print(lda_model_2.print_topics(num_topics=3, num_words=5))"
   ]
  },
  {
   "cell_type": "markdown",
   "id": "informational-denver",
   "metadata": {},
   "source": [
    "The result is almost the same, with Topic2 indicating 'courses', while Topics 1 and 3 seem to resemble 'work'."
   ]
  },
  {
   "cell_type": "markdown",
   "id": "effective-discipline",
   "metadata": {},
   "source": [
    "# Conclusion\n",
    "\n",
    "In this guide, you have learned about topic identification using the bag-of-words technique. You also got an introduction on LDA using a powerful open source NLP library 'gensim'.\n",
    "\n",
    "The performance of topic models is dependent on the terms present in the corpus, represented as document-term-matrix. Since this matrix is sparse in nature, reducing the dimensionality may improve the model performance. However, since our corpus was not very large, we can be reasonably confident with the achieved results.\n",
    "\n",
    "To learn more about Natural Language Processing, please refer to the following guides:\n",
    "\n",
    "- [Natural Language Processing – Text Parsing](https://app.pluralsight.com/guides/text-parsing)\n",
    "- [Natural Language Processing - Machine Learning with Text Data](https://app.pluralsight.com/guides/nlp-machine-learning-text-data)"
   ]
  },
  {
   "cell_type": "code",
   "execution_count": null,
   "id": "adult-quantity",
   "metadata": {},
   "outputs": [],
   "source": []
  }
 ],
 "metadata": {
  "kernelspec": {
   "display_name": "Python 3",
   "language": "python",
   "name": "python3"
  },
  "language_info": {
   "codemirror_mode": {
    "name": "ipython",
    "version": 3
   },
   "file_extension": ".py",
   "mimetype": "text/x-python",
   "name": "python",
   "nbconvert_exporter": "python",
   "pygments_lexer": "ipython3",
   "version": "3.9.1"
  }
 },
 "nbformat": 4,
 "nbformat_minor": 5
}
